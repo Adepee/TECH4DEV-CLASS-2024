{
 "cells": [
  {
   "cell_type": "code",
   "execution_count": 1,
   "id": "50f0c0e0",
   "metadata": {},
   "outputs": [
    {
     "name": "stdout",
     "output_type": "stream",
     "text": [
      "[4, 5, 6, 8, 2]\n"
     ]
    }
   ],
   "source": [
    "# 1. append()\n",
    "#Adds an element to the end of the list\n",
    "\n",
    "my_list = [4,5,6,8]\n",
    "my_list.append(2)\n",
    "print(my_list)\n"
   ]
  },
  {
   "cell_type": "code",
   "execution_count": 2,
   "id": "f137270e",
   "metadata": {},
   "outputs": [
    {
     "name": "stdout",
     "output_type": "stream",
     "text": [
      "[1, 2, 3, 3]\n"
     ]
    }
   ],
   "source": [
    "# 2. remove()\n",
    "# Removes the first occurrence of a specified element.\n",
    "\n",
    "my_list = [1, 2, 3, 4, 3] \n",
    "my_list.remove(4) \n",
    "print(my_list)"
   ]
  },
  {
   "cell_type": "code",
   "execution_count": 4,
   "id": "779845ed",
   "metadata": {},
   "outputs": [
    {
     "name": "stdout",
     "output_type": "stream",
     "text": [
      "2\n"
     ]
    }
   ],
   "source": [
    "# 3 index()\n",
    "# Returns the index of the first occurrence of a specified element.\n",
    "\n",
    "my_list = [1, 2, 3, 4, 3] \n",
    "print(my_list.index(3))\n",
    "\n"
   ]
  },
  {
   "cell_type": "code",
   "execution_count": 5,
   "id": "c5d70e6e",
   "metadata": {},
   "outputs": [
    {
     "name": "stdout",
     "output_type": "stream",
     "text": [
      "[12, 13, 14, 4, 5, 6]\n"
     ]
    }
   ],
   "source": [
    "# 4. extend()\n",
    "# Appends the elements of another iterable to the end of the list.\n",
    "\n",
    "my_list = [12, 13, 14] \n",
    "my_list.extend([4, 5, 6]) \n",
    "print(my_list)"
   ]
  },
  {
   "cell_type": "code",
   "execution_count": 6,
   "id": "21e294d5",
   "metadata": {},
   "outputs": [
    {
     "name": "stdout",
     "output_type": "stream",
     "text": [
      "2\n"
     ]
    }
   ],
   "source": [
    "# TUPLE\n",
    "# 5. COUNT()\n",
    "#Returns the number of occurrences of a specified element\n",
    "\n",
    "my_tuple = (1, 2, 3, 4, 3) \n",
    "print(my_tuple.count(3))"
   ]
  },
  {
   "cell_type": "code",
   "execution_count": 7,
   "id": "a2358be9",
   "metadata": {},
   "outputs": [
    {
     "name": "stdout",
     "output_type": "stream",
     "text": [
      "2\n"
     ]
    }
   ],
   "source": [
    "#TUPLE \n",
    "6. #index()\n",
    "#Returns the index of the first occurrence of a specified element.\n",
    "\n",
    "my_tuple = (1, 2, 3, 4, 3) \n",
    "print(my_tuple.index(3))"
   ]
  },
  {
   "cell_type": "code",
   "execution_count": null,
   "id": "68c3a996",
   "metadata": {},
   "outputs": [],
   "source": [
    "6.\t\n",
    "pythonCopy code\n",
    " # Output: [1, 1, 2, 3, 4, 5, 9] \n",
    "7.\t # Output: [5, 4, 3, 2, 1] \n",
    "8.\t # Output: 3 print(my_list) # Output: [1, 2, 4, 5] \n"
   ]
  },
  {
   "cell_type": "code",
   "execution_count": 8,
   "id": "ba682b54",
   "metadata": {},
   "outputs": [
    {
     "name": "stdout",
     "output_type": "stream",
     "text": [
      "[1, 1, 2, 3, 4, 5, 9]\n"
     ]
    }
   ],
   "source": [
    "# 7 sort()\n",
    "# Sorts the elements of a list.\n",
    "\n",
    "my_list = [3, 1, 4, 1, 5, 9, 2] \n",
    "my_list.sort() \n",
    "print(my_list)"
   ]
  },
  {
   "cell_type": "code",
   "execution_count": 11,
   "id": "2855f082",
   "metadata": {},
   "outputs": [
    {
     "name": "stdout",
     "output_type": "stream",
     "text": [
      "3\n"
     ]
    }
   ],
   "source": [
    "# 8.pop()\n",
    "# Removes and returns the element at the specified index.\n",
    "\n",
    "my_list = [4, 2, 3, 4, 5]\n",
    "print(my_list.pop(2)) \n"
   ]
  },
  {
   "cell_type": "code",
   "execution_count": null,
   "id": "e7b7c4e3",
   "metadata": {},
   "outputs": [],
   "source": [
    "# 9. reverse()\n",
    "Reverses the elements of a list.\n",
    "\n",
    "my_list = [1, 2, 3, 4, 5] \n",
    "my_list.reverse() \n",
    "print(my_list)"
   ]
  },
  {
   "cell_type": "code",
   "execution_count": 15,
   "id": "13ce65fb",
   "metadata": {},
   "outputs": [
    {
     "name": "stdout",
     "output_type": "stream",
     "text": [
      "12\n"
     ]
    }
   ],
   "source": [
    "# 10. get()\n",
    "# Returns the value of the specified key. If the key does not exist, it returns a default value.\n",
    "\n",
    "my_dict = {'job': 'teacher', 'grade': 12} \n",
    "value = my_dict.get('grade', 0) \n",
    "print(value) "
   ]
  },
  {
   "cell_type": "code",
   "execution_count": 14,
   "id": "9a814ee9",
   "metadata": {},
   "outputs": [
    {
     "name": "stdout",
     "output_type": "stream",
     "text": [
      "('grade', 12)\n"
     ]
    }
   ],
   "source": [
    "# 11. popitem()\n",
    "# it removes and returns the last key-value pair as a tuple.\n",
    "\n",
    "my_dict = {'job': 'teacher', 'grade': 12}\n",
    "popped_item = my_dict.popitem() \n",
    "print(popped_item) "
   ]
  },
  {
   "cell_type": "code",
   "execution_count": 16,
   "id": "fb6fbc22",
   "metadata": {},
   "outputs": [
    {
     "name": "stdout",
     "output_type": "stream",
     "text": [
      "dict_values(['teacher', 12])\n"
     ]
    }
   ],
   "source": [
    "# 12. values()\n",
    "# Returns a view of all the values in the dictionary.\n",
    "\n",
    "my_dict = {'job': 'teacher', 'grade': 12}\n",
    "values = my_dict.values() \n",
    "print(values)"
   ]
  },
  {
   "cell_type": "code",
   "execution_count": 17,
   "id": "c56c47ac",
   "metadata": {},
   "outputs": [
    {
     "name": "stdout",
     "output_type": "stream",
     "text": [
      "{'job': 'teacher', 'grade': 12, 'city': 'New York', 'age': 26}\n"
     ]
    }
   ],
   "source": [
    "# 13. update()\n",
    "# Updates the dictionary with elements from another dictionary or from an iterable of key-value pairs.\n",
    "\n",
    "my_dict = {'job': 'teacher', 'grade': 12}\n",
    "my_dict.update({'city': 'New York', 'age': 26}) \n",
    "print(my_dict)"
   ]
  },
  {
   "cell_type": "code",
   "execution_count": 13,
   "id": "c7657cb8",
   "metadata": {},
   "outputs": [
    {
     "name": "stdout",
     "output_type": "stream",
     "text": [
      "dict_keys(['job', 'grade'])\n"
     ]
    }
   ],
   "source": [
    "# 14. keys()\n",
    "# Returns a view of all the keys in the dictionary.\n",
    "\n",
    "my_dict = {'job': 'teacher', 'grade': 12} \n",
    "keys = my_dict.keys() \n",
    "print(keys) "
   ]
  },
  {
   "cell_type": "code",
   "execution_count": 18,
   "id": "f440796d",
   "metadata": {},
   "outputs": [
    {
     "name": "stdout",
     "output_type": "stream",
     "text": [
      "{'job': 'teacher', 'grade': 12}\n"
     ]
    }
   ],
   "source": [
    "# 15. copy()\n",
    "# Returns a shallow copy of the dictionary.\n",
    "\n",
    "my_dict = {'job': 'teacher', 'grade': 12} \n",
    "copy_dict = my_dict.copy() \n",
    "print(copy_dict) \n"
   ]
  },
  {
   "cell_type": "code",
   "execution_count": 19,
   "id": "e93134dc",
   "metadata": {},
   "outputs": [
    {
     "name": "stdout",
     "output_type": "stream",
     "text": [
      "{}\n"
     ]
    }
   ],
   "source": [
    "# 16. clear()\n",
    "# Removes all items from the dictionary.\n",
    "\n",
    "my_dict =  {'job': 'teacher', 'grade': 12} \n",
    "my_dict.clear() \n",
    "print(my_dict)"
   ]
  },
  {
   "cell_type": "code",
   "execution_count": null,
   "id": "b49fa116",
   "metadata": {},
   "outputs": [],
   "source": []
  }
 ],
 "metadata": {
  "kernelspec": {
   "display_name": "Python 3 (ipykernel)",
   "language": "python",
   "name": "python3"
  },
  "language_info": {
   "codemirror_mode": {
    "name": "ipython",
    "version": 3
   },
   "file_extension": ".py",
   "mimetype": "text/x-python",
   "name": "python",
   "nbconvert_exporter": "python",
   "pygments_lexer": "ipython3",
   "version": "3.11.5"
  }
 },
 "nbformat": 4,
 "nbformat_minor": 5
}

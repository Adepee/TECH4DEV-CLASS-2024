{
 "cells": [
  {
   "cell_type": "code",
   "execution_count": 1,
   "id": "aba8b87b",
   "metadata": {},
   "outputs": [
    {
     "name": "stdout",
     "output_type": "stream",
     "text": [
      "+--------+\n"
     ]
    }
   ],
   "source": [
    "# QUESTION 1\n",
    "\n",
    "box_size = 4\n",
    "print(\"+\" + \"-\" * (box_size * 2) + \"+\")"
   ]
  },
  {
   "cell_type": "code",
   "execution_count": 5,
   "id": "430406fd",
   "metadata": {},
   "outputs": [
    {
     "name": "stdout",
     "output_type": "stream",
     "text": [
      "**********\n",
      "**********\n",
      "**********\n",
      "**********\n",
      "**********\n"
     ]
    }
   ],
   "source": [
    "# QUESTION 2\n",
    "\n",
    "num_row = 5\n",
    "for i in range(num_row):\n",
    "    print(\"*\" * 10)"
   ]
  },
  {
   "cell_type": "code",
   "execution_count": 6,
   "id": "37358552",
   "metadata": {},
   "outputs": [
    {
     "name": "stdout",
     "output_type": "stream",
     "text": [
      "1 2 4 0 -14 88 8\n",
      "2 4 7 10 21 97 -12\n",
      "3 6 12 20 -28 112 16\n",
      "4 8 19 30 35 133 -20\n",
      "5 10 28 40 -42 160 24\n",
      "6 12 39 50 49 193 -28\n"
     ]
    }
   ],
   "source": [
    "# QUESTION 3\n",
    "\n",
    "for i in range(1, 7):\n",
    "    a = i\n",
    "    b = i * 2\n",
    "    c = i**2 + 3\n",
    "    d = 10 * i - 10\n",
    "    e = (-1)**i * (i + 1) * 7\n",
    "    f = 3 * i**2 + 85\n",
    "    g = (-1)**(i + 1) * (i + 1) * 4\n",
    "    print(f\"{a} {b} {c} {d} {e} {f} {g}\")"
   ]
  },
  {
   "cell_type": "code",
   "execution_count": 40,
   "id": "21141636",
   "metadata": {},
   "outputs": [
    {
     "name": "stdout",
     "output_type": "stream",
     "text": [
      "1\n",
      "22\n",
      "333\n",
      "4444\n",
      "55555\n",
      "666666\n",
      "7777777\n"
     ]
    }
   ],
   "source": [
    "# QUESTION 4\n",
    "\n",
    "class NumberTriangle:\n",
    "    # To control the number of lines\n",
    "    NUM_LINES = 7\n",
    "\n",
    "    @classmethod\n",
    "    def print_triangle(cls):\n",
    "        for i in range(1, cls.NUM_LINES + 1):\n",
    "            print(str(i) * i)\n",
    "\n",
    "# Call the class method to print the triangle\n",
    "NumberTriangle.print_triangle()"
   ]
  },
  {
   "cell_type": "code",
   "execution_count": 29,
   "id": "6b1c8d53",
   "metadata": {},
   "outputs": [
    {
     "name": "stdout",
     "output_type": "stream",
     "text": [
      "33.0\n",
      "50.0\n"
     ]
    }
   ],
   "source": [
    "# QUESTION 5\n",
    "\n",
    "def pay(salary, hours_worked):\n",
    "    regular_hours = 8\n",
    "\n",
    "    # Check if the TA worked more than regular hours\n",
    "    if hours_worked > regular_hours:\n",
    "        # Calculate regular pay and overtime pay\n",
    "        regular_pay = salary * regular_hours\n",
    "        overtime_pay = (salary * 1.5) * (hours_worked - regular_hours)\n",
    "\n",
    "        # Calculate total pay\n",
    "        total_pay = regular_pay + overtime_pay\n",
    "    else:\n",
    "        # If no overtime, calculate total pay based on regular hours\n",
    "        total_pay = salary * hours_worked\n",
    "\n",
    "    return total_pay\n",
    "\n",
    "# e.g.\n",
    "salary_rate = 5.50\n",
    "hours_worked_1 = 6\n",
    "hours_worked_2 = 11\n",
    "\n",
    "print(pay(salary_rate, hours_worked_1))  \n",
    "print(pay(4.00, hours_worked_2))         "
   ]
  },
  {
   "cell_type": "code",
   "execution_count": 32,
   "id": "3b39347f",
   "metadata": {},
   "outputs": [
    {
     "name": "stdout",
     "output_type": "stream",
     "text": [
      "12.566370614359172\n"
     ]
    }
   ],
   "source": [
    "# QUESTION 6\n",
    "\n",
    "import math\n",
    "\n",
    "# Method to calculate the area of a circle\n",
    "def area(radius):\n",
    "    return math.pi * radius**2\n",
    "\n",
    "# e.g:\n",
    "radius = 2.0\n",
    "result = area(radius)\n",
    "\n",
    "print(result)"
   ]
  },
  {
   "cell_type": "code",
   "execution_count": 33,
   "id": "57536ae9",
   "metadata": {},
   "outputs": [
    {
     "name": "stdout",
     "output_type": "stream",
     "text": [
      "low? 1\n",
      "high? 1001\n",
      "sum = 500500\n"
     ]
    }
   ],
   "source": [
    "# QUESTION 7\n",
    "\n",
    "low = int(input(\"low? \"))\n",
    "high = int(input(\"high? \"))\n",
    "sum = 0\n",
    "\n",
    "for i in range(low, high):\n",
    "    sum += i\n",
    "\n",
    "print(\"sum =\", sum)"
   ]
  },
  {
   "cell_type": "code",
   "execution_count": 34,
   "id": "79cee09e",
   "metadata": {},
   "outputs": [
    {
     "name": "stdout",
     "output_type": "stream",
     "text": [
      "Enter a number (type 0 to exit): 1\n",
      "Enter a number (type 0 to exit): 2\n",
      "Enter a number (type 0 to exit): 0\n",
      "Sum of the entered numbers: 3\n"
     ]
    }
   ],
   "source": [
    "# QUESTION 8\n",
    "\n",
    "# Initialize sum\n",
    "sum_of_numbers = 0\n",
    "\n",
    "# Prompt the user for numbers until 0 is entered\n",
    "while True:\n",
    "    user_input = int(input(\"Enter a number (type 0 to exit): \"))\n",
    "    \n",
    "    # Check if the user wants to exit\n",
    "    if user_input == 0:\n",
    "        break\n",
    "    \n",
    "    # Add the entered number to the sum\n",
    "    sum_of_numbers += user_input\n",
    "\n",
    "# Output the sum\n",
    "print(\"Sum of the entered numbers:\", sum_of_numbers)"
   ]
  },
  {
   "cell_type": "code",
   "execution_count": 35,
   "id": "9ee4599c",
   "metadata": {},
   "outputs": [
    {
     "name": "stdout",
     "output_type": "stream",
     "text": [
      "Enter a number (type -1 to exit): 2\n",
      "Enter a number (type -1 to exit): 4\n",
      "Enter a number (type -1 to exit): -1\n",
      "Sum of the entered numbers: 6\n"
     ]
    }
   ],
   "source": [
    "# QUESTION 9\n",
    "\n",
    "# Initialize sum\n",
    "sum_of_numbers = 0\n",
    "\n",
    "# Prompt the user for numbers until -1 is entered\n",
    "while True:\n",
    "    user_input = int(input(\"Enter a number (type -1 to exit): \"))\n",
    "    \n",
    "    # Check if the user wants to exit\n",
    "    if user_input == -1:\n",
    "        break\n",
    "    \n",
    "    # Add the entered number to the sum\n",
    "    sum_of_numbers += user_input\n",
    "\n",
    "# Output the sum\n",
    "print(\"Sum of the entered numbers:\", sum_of_numbers)"
   ]
  },
  {
   "cell_type": "code",
   "execution_count": 36,
   "id": "4d63fd6f",
   "metadata": {},
   "outputs": [
    {
     "name": "stdout",
     "output_type": "stream",
     "text": [
      "hellohellohello\n"
     ]
    }
   ],
   "source": [
    "# QUESTION 10\n",
    "\n",
    "def repl(s, repetitions):\n",
    "    if repetitions <= 0:\n",
    "        return \"\"\n",
    "    else:\n",
    "        return s * repetitions\n",
    "\n",
    "# Example usage:\n",
    "result = repl(\"hello\", 3)\n",
    "print(result)"
   ]
  },
  {
   "cell_type": "code",
   "execution_count": 37,
   "id": "8802e444",
   "metadata": {},
   "outputs": [
    {
     "name": "stdout",
     "output_type": "stream",
     "text": [
      "2 3 4 5 6 7 19 18 17 16 15 14 13 12 11 5\n"
     ]
    }
   ],
   "source": [
    "# QUESTION 11\n",
    "\n",
    "def printRange(num1, num2):\n",
    "    if num1 < num2:\n",
    "        # Increasing sequence\n",
    "        for i in range(num1, num2 + 1):\n",
    "            print(i, end=' ')\n",
    "    elif num1 > num2:\n",
    "        # Decreasing sequence\n",
    "        for i in range(num1, num2 - 1, -1):\n",
    "            print(i, end=' ')\n",
    "    else:\n",
    "        # Numbers are the same\n",
    "        print(num1)\n",
    "\n",
    "# Sample calls\n",
    "printRange(2, 7)\n",
    "printRange(19, 11)\n",
    "printRange(5, 5)"
   ]
  },
  {
   "cell_type": "code",
   "execution_count": 39,
   "id": "217bcc5a",
   "metadata": {},
   "outputs": [
    {
     "ename": "KeyboardInterrupt",
     "evalue": "Interrupted by user",
     "output_type": "error",
     "traceback": [
      "\u001b[1;31m---------------------------------------------------------------------------\u001b[0m",
      "\u001b[1;31mKeyboardInterrupt\u001b[0m                         Traceback (most recent call last)",
      "Cell \u001b[1;32mIn[39], line 2\u001b[0m\n\u001b[0;32m      1\u001b[0m \u001b[38;5;66;03m# Ask the user for the number of numbers to enter\u001b[39;00m\n\u001b[1;32m----> 2\u001b[0m num_count \u001b[38;5;241m=\u001b[39m \u001b[38;5;28mint\u001b[39m(\u001b[38;5;28minput\u001b[39m(\u001b[38;5;124m\"\u001b[39m\u001b[38;5;124mHow many numbers do you want to enter? \u001b[39m\u001b[38;5;124m\"\u001b[39m))\n\u001b[0;32m      4\u001b[0m \u001b[38;5;66;03m# Ensure the user enters a valid number greater than 0\u001b[39;00m\n\u001b[0;32m      5\u001b[0m \u001b[38;5;28;01mwhile\u001b[39;00m num_count \u001b[38;5;241m<\u001b[39m\u001b[38;5;241m=\u001b[39m \u001b[38;5;241m0\u001b[39m:\n",
      "File \u001b[1;32m~\\anaconda3\\Lib\\site-packages\\ipykernel\\kernelbase.py:1202\u001b[0m, in \u001b[0;36mKernel.raw_input\u001b[1;34m(self, prompt)\u001b[0m\n\u001b[0;32m   1200\u001b[0m     msg \u001b[38;5;241m=\u001b[39m \u001b[38;5;124m\"\u001b[39m\u001b[38;5;124mraw_input was called, but this frontend does not support input requests.\u001b[39m\u001b[38;5;124m\"\u001b[39m\n\u001b[0;32m   1201\u001b[0m     \u001b[38;5;28;01mraise\u001b[39;00m StdinNotImplementedError(msg)\n\u001b[1;32m-> 1202\u001b[0m \u001b[38;5;28;01mreturn\u001b[39;00m \u001b[38;5;28mself\u001b[39m\u001b[38;5;241m.\u001b[39m_input_request(\n\u001b[0;32m   1203\u001b[0m     \u001b[38;5;28mstr\u001b[39m(prompt),\n\u001b[0;32m   1204\u001b[0m     \u001b[38;5;28mself\u001b[39m\u001b[38;5;241m.\u001b[39m_parent_ident[\u001b[38;5;124m\"\u001b[39m\u001b[38;5;124mshell\u001b[39m\u001b[38;5;124m\"\u001b[39m],\n\u001b[0;32m   1205\u001b[0m     \u001b[38;5;28mself\u001b[39m\u001b[38;5;241m.\u001b[39mget_parent(\u001b[38;5;124m\"\u001b[39m\u001b[38;5;124mshell\u001b[39m\u001b[38;5;124m\"\u001b[39m),\n\u001b[0;32m   1206\u001b[0m     password\u001b[38;5;241m=\u001b[39m\u001b[38;5;28;01mFalse\u001b[39;00m,\n\u001b[0;32m   1207\u001b[0m )\n",
      "File \u001b[1;32m~\\anaconda3\\Lib\\site-packages\\ipykernel\\kernelbase.py:1245\u001b[0m, in \u001b[0;36mKernel._input_request\u001b[1;34m(self, prompt, ident, parent, password)\u001b[0m\n\u001b[0;32m   1242\u001b[0m \u001b[38;5;28;01mexcept\u001b[39;00m \u001b[38;5;167;01mKeyboardInterrupt\u001b[39;00m:\n\u001b[0;32m   1243\u001b[0m     \u001b[38;5;66;03m# re-raise KeyboardInterrupt, to truncate traceback\u001b[39;00m\n\u001b[0;32m   1244\u001b[0m     msg \u001b[38;5;241m=\u001b[39m \u001b[38;5;124m\"\u001b[39m\u001b[38;5;124mInterrupted by user\u001b[39m\u001b[38;5;124m\"\u001b[39m\n\u001b[1;32m-> 1245\u001b[0m     \u001b[38;5;28;01mraise\u001b[39;00m \u001b[38;5;167;01mKeyboardInterrupt\u001b[39;00m(msg) \u001b[38;5;28;01mfrom\u001b[39;00m \u001b[38;5;28;01mNone\u001b[39;00m\n\u001b[0;32m   1246\u001b[0m \u001b[38;5;28;01mexcept\u001b[39;00m \u001b[38;5;167;01mException\u001b[39;00m:\n\u001b[0;32m   1247\u001b[0m     \u001b[38;5;28mself\u001b[39m\u001b[38;5;241m.\u001b[39mlog\u001b[38;5;241m.\u001b[39mwarning(\u001b[38;5;124m\"\u001b[39m\u001b[38;5;124mInvalid Message:\u001b[39m\u001b[38;5;124m\"\u001b[39m, exc_info\u001b[38;5;241m=\u001b[39m\u001b[38;5;28;01mTrue\u001b[39;00m)\n",
      "\u001b[1;31mKeyboardInterrupt\u001b[0m: Interrupted by user"
     ]
    }
   ],
   "source": [
    "# QUESTION 12\n",
    "\n",
    "# Ask the user for the number of numbers to enter\n",
    "num_count = int(input(\"How many numbers do you want to enter? \"))\n",
    "\n",
    " # Ensure the user enters a valid number greater than 0\n",
    "while num_count <= 0:\n",
    "    print(\"Please enter a valid number greater than 0.\")\n",
    "    num_count = int(input(\"How many numbers do you want to enter? \"))\n",
    "\n",
    "# Initialize variables to track the smallest and largest numbers\n",
    "smallest = float('inf')\n",
    "largest = float('-inf')\n",
    "\n",
    "# Prompt the user to enter numbers\n",
    "for i in range(1, num_count + 1):\n",
    "    num = float(input(f\"Number {i}: \"))\n",
    "    smallest = min(smallest, num)\n",
    "    largest = max(largest, num)\n",
    "\n",
    "# Print the smallest and largest numbers\n",
    "print(f\"Smallest = {smallest}\")\n",
    "print(f\"Largest = {largest}\")\n",
    "\n",
    "# Call the method\n",
    "smallestLargest()"
   ]
  },
  {
   "cell_type": "code",
   "execution_count": null,
   "id": "e23f5678",
   "metadata": {},
   "outputs": [],
   "source": [
    "# QUESTION 13\n",
    "\n",
    "def printAverage():\n",
    "    # Initialize variables for sum and count\n",
    "    total = 0\n",
    "    count = 0\n",
    "\n",
    "    while True:\n",
    "        # Prompt the user for a number\n",
    "        num = float(input(\"Type a number: \"))\n",
    "\n",
    "        # Check if the number is less than zero (sentinel value)\n",
    "        if num < 0:\n",
    "            # Check if any nonnegative numbers were entered before the sentinel\n",
    "            if count > 0:\n",
    "                # Calculate and print the average\n",
    "                average = total / count\n",
    "                print(f\"Average was {average}\")\n",
    "            else:\n",
    "                print(\"No nonnegative numbers entered.\")\n",
    "            break  # Exit the loop\n",
    "        else:\n",
    "            # Add the nonnegative number to the sum and increment the count\n",
    "            total += num\n",
    "            count += 1\n",
    "\n",
    "# Call the method\n",
    "printAverage()"
   ]
  },
  {
   "cell_type": "code",
   "execution_count": null,
   "id": "c35aea51",
   "metadata": {},
   "outputs": [],
   "source": []
  },
  {
   "cell_type": "code",
   "execution_count": null,
   "id": "3eeb6a6d",
   "metadata": {},
   "outputs": [],
   "source": [
    "# QUESTION 14\n",
    "\n",
    "def numUnique(num1, num2, num3):\n",
    "    # Use a set to store unique numbers\n",
    "    unique_numbers = set([num1, num2, num3])\n",
    "\n",
    "    # Return the number of unique integers\n",
    "    return len(unique_numbers)\n",
    "\n",
    "# Examples\n",
    "result1 = numUnique(18, 3, 4)\n",
    "result2 = numUnique(6, 7, 6)\n",
    "\n",
    "print(result1)  # Output: 3\n",
    "print(result2)  # Output: 2"
   ]
  },
  {
   "cell_type": "code",
   "execution_count": null,
   "id": "c47b1c9a",
   "metadata": {},
   "outputs": [],
   "source": []
  },
  {
   "cell_type": "code",
   "execution_count": null,
   "id": "c422ad95",
   "metadata": {},
   "outputs": [],
   "source": [
    "# QUESTION 15\n",
    "\n",
    "import random\n",
    "\n",
    "def roll_dice():\n",
    "    return random.randint(1, 6)\n",
    "\n",
    "def main():\n",
    "    target_sum = 7\n",
    "    tries = 0\n",
    "\n",
    "    while True:\n",
    "        dice1 = roll_dice()\n",
    "        dice2 = roll_dice()\n",
    "\n",
    "        total = dice1 + dice2\n",
    "        tries += 1\n",
    "\n",
    "        print(f\"{dice1} + {dice2} = {total}\")\n",
    "\n",
    "        if total == target_sum:\n",
    "            print(f\"You won after {tries} tries!\")\n",
    "            break\n",
    "\n",
    "if __name__ == \"__main__\":\n",
    "    main()"
   ]
  },
  {
   "cell_type": "code",
   "execution_count": null,
   "id": "442305c4",
   "metadata": {},
   "outputs": [],
   "source": []
  }
 ],
 "metadata": {
  "kernelspec": {
   "display_name": "Python 3 (ipykernel)",
   "language": "python",
   "name": "python3"
  },
  "language_info": {
   "codemirror_mode": {
    "name": "ipython",
    "version": 3
   },
   "file_extension": ".py",
   "mimetype": "text/x-python",
   "name": "python",
   "nbconvert_exporter": "python",
   "pygments_lexer": "ipython3",
   "version": "3.11.5"
  }
 },
 "nbformat": 4,
 "nbformat_minor": 5
}
